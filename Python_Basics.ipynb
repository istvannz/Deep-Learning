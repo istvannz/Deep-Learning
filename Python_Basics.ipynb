{
  "nbformat": 4,
  "nbformat_minor": 0,
  "metadata": {
    "colab": {
      "name": "Python-Basics.ipynb",
      "version": "0.3.2",
      "provenance": [],
      "collapsed_sections": [],
      "include_colab_link": true
    },
    "kernelspec": {
      "name": "python3",
      "display_name": "Python 3"
    }
  },
  "cells": [
    {
      "cell_type": "markdown",
      "metadata": {
        "id": "view-in-github",
        "colab_type": "text"
      },
      "source": [
        "<a href=\"https://colab.research.google.com/github/istvannz/Deep-Learning/blob/master/Python_Basics.ipynb\" target=\"_parent\"><img src=\"https://colab.research.google.com/assets/colab-badge.svg\" alt=\"Open In Colab\"/></a>"
      ]
    },
    {
      "cell_type": "markdown",
      "metadata": {
        "id": "n-rDBh7cz7zE",
        "colab_type": "text"
      },
      "source": [
        "# Introduction to Python and Numpy\n",
        "\n",
        "The course is designed around using Google Colab for your programming activities. During the first lab activity we will look at some of the Basic building blocks that you will need to complete this course.\n",
        "\n",
        "**Instructions:**\n",
        "> - Python 3 is the version that we will be using.\n",
        "> - All required libraries have already been installed.\n",
        "> - In the area's labelled **#BeginCode** and **#EndCode**, these are the area's you will introduce code. If you add code in any other location you may cause the program to fail.\n",
        "> - Avoid for loops and while loops, unless your explicitly told to use them.\n",
        "> - To execute the code in a cell either select the Cell and then select the run button. Additionally, you can also press \"Shift\"+\"Enter\" to execute the cell.\n",
        "> - You will be informed approximately how many lines of code are expected. The word **\"None\"** will inform you that code is required to complete a statement.\n",
        "\n",
        "**Activity** \n",
        "\n",
        "Lets start of with the traditional **\"Hello World\"** example. In the cell below we want to store the message \"Hello World\"."
      ]
    },
    {
      "cell_type": "code",
      "metadata": {
        "id": "4r3NG5gp2DBO",
        "colab_type": "code",
        "colab": {}
      },
      "source": [
        "#BeginCode\n",
        "message = \"Hello World\"\n",
        "#EndCode"
      ],
      "execution_count": 0,
      "outputs": []
    },
    {
      "cell_type": "code",
      "metadata": {
        "id": "VW44MXGN2OXb",
        "colab_type": "code",
        "colab": {
          "base_uri": "https://localhost:8080/",
          "height": 34
        },
        "outputId": "f3b186bc-84ac-47b9-beea-76f4624d87d3"
      },
      "source": [
        "print(\"Output: \" + message)"
      ],
      "execution_count": 2,
      "outputs": [
        {
          "output_type": "stream",
          "text": [
            "Output: Hello World\n"
          ],
          "name": "stdout"
        }
      ]
    },
    {
      "cell_type": "markdown",
      "metadata": {
        "id": "MX7WRmTR2cwk",
        "colab_type": "text"
      },
      "source": [
        "## Building basic functions with Numpy\n",
        "Numpy is a library used with Python, it adds support for large, multi-dimensional arrays and matrices. In addition Numpy supports a large collection of high-level mathematical functions to operate on these arrays. Numpy is maintained by a large community (www.numpy.org). In the folllowing exercises you will learn several key numpy functions such as **np.exp**, **np.log**, and **np.reshape**. You will need to be confortable using these functions for future assignments.\n",
        "## Sigmoid activation function using math.exp and np.exp\n",
        "In this activity you will build a function that returns the sigmoid of a real number. The sigmoid activation function will be use throughtout this course and you will be more formally introduced to it in the Logistic Regression section. The sigmoid function is a S-curve that can be either a negitive or postive value, as shown in figure 1.\n",
        "\n",
        "![alt text](https://github.com/istvannz/Deep-Learning/blob/master/activity-1/images/Sigmoid.png)"
      ]
    }
  ]
}